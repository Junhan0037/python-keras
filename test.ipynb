{
 "cells": [
  {
   "cell_type": "code",
   "execution_count": 1,
   "outputs": [],
   "source": [
    "#\n",
    "import numpy as np\n",
    "from tkinter import *\n",
    "import tkinter.scrolledtext as tkst\n",
    "from matplotlib.figure import Figure\n",
    "from matplotlib.backends.backend_tkagg import FigureCanvasTkAgg\n",
    "from matplotlib.animation import FuncAnimation\n",
    "import math\n",
    "import pandas as pd\n",
    "\n",
    "# Load the CSV files \"marathon_results_2015 ~ 2017.csv\" under \"data\" folder\n",
    "marathon_2015_2017 = pd.read_csv(\"./data/marathon_2015_2017.csv\")\n",
    "\n",
    "# Merge 2015, 2016 and 2017 files into marathon_2015_2017 file index by Official Time\n",
    "record = pd.DataFrame(marathon_2015_2017,columns=['5K',  '10K',  '15K',  '20K', 'Half',  '25K',  '30K',  '35K',  '40K',  'Official Time']).sort_values(by=['Official Time'])\n",
    "\n",
    "# Dataframe to List\n",
    "record_list = record.values.tolist()\n",
    "\n",
    "xData = [5, 10, 15, 20, 21.098, 25, 30, 35, 40, 42.195 ]"
   ],
   "metadata": {
    "collapsed": false,
    "pycharm": {
     "name": "#%%\n"
    }
   }
  },
  {
   "cell_type": "code",
   "execution_count": 3,
   "outputs": [],
   "source": [
    "x_train = [ i/10 for i in xData[0:7]]"
   ],
   "metadata": {
    "collapsed": false,
    "pycharm": {
     "name": "#%%\n"
    }
   }
  },
  {
   "cell_type": "code",
   "execution_count": null,
   "outputs": [],
   "source": [
    "\n"
   ],
   "metadata": {
    "collapsed": false,
    "pycharm": {
     "name": "#%%\n"
    }
   }
  }
 ],
 "metadata": {
  "kernelspec": {
   "name": "pycharm-44b6b987",
   "language": "python",
   "display_name": "PyCharm (data_visualization)"
  },
  "language_info": {
   "codemirror_mode": {
    "name": "ipython",
    "version": 2
   },
   "file_extension": ".py",
   "mimetype": "text/x-python",
   "name": "python",
   "nbconvert_exporter": "python",
   "pygments_lexer": "ipython2",
   "version": "2.7.6"
  }
 },
 "nbformat": 4,
 "nbformat_minor": 0
}